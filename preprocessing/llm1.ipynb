{
 "cells": [
  {
   "cell_type": "code",
   "execution_count": 2,
   "metadata": {},
   "outputs": [
    {
     "ename": "ImportError",
     "evalue": "create_pandas_dataframe_agent has been moved to langchain experimental. See https://github.com/langchain-ai/langchain/discussions/11680for more information.\nPlease update your import statement from: `langchain.agents.create_pandas_dataframe_agent` to `langchain_experimental.agents.create_pandas_dataframe_agent`.",
     "output_type": "error",
     "traceback": [
      "\u001b[0;31m---------------------------------------------------------------------------\u001b[0m",
      "\u001b[0;31mImportError\u001b[0m                               Traceback (most recent call last)",
      "\u001b[1;32m/home/rafaelcoelho/Desktop/Workbench/DS & AI/Formula 1 Analytics/FormulaOneAnalytics/preprocessing/llm1.ipynb Cell 1\u001b[0m line \u001b[0;36m2\n\u001b[1;32m      <a href='vscode-notebook-cell:/home/rafaelcoelho/Desktop/Workbench/DS%20%26%20AI/Formula%201%20Analytics/FormulaOneAnalytics/preprocessing/llm1.ipynb#W0sZmlsZQ%3D%3D?line=0'>1</a>\u001b[0m \u001b[39mimport\u001b[39;00m \u001b[39mpandas\u001b[39;00m \u001b[39mas\u001b[39;00m \u001b[39mpd\u001b[39;00m\n\u001b[0;32m----> <a href='vscode-notebook-cell:/home/rafaelcoelho/Desktop/Workbench/DS%20%26%20AI/Formula%201%20Analytics/FormulaOneAnalytics/preprocessing/llm1.ipynb#W0sZmlsZQ%3D%3D?line=1'>2</a>\u001b[0m \u001b[39mfrom\u001b[39;00m \u001b[39mlangchain\u001b[39;00m\u001b[39m.\u001b[39;00m\u001b[39magents\u001b[39;00m \u001b[39mimport\u001b[39;00m AgentType, create_pandas_dataframe_agent\n\u001b[1;32m      <a href='vscode-notebook-cell:/home/rafaelcoelho/Desktop/Workbench/DS%20%26%20AI/Formula%201%20Analytics/FormulaOneAnalytics/preprocessing/llm1.ipynb#W0sZmlsZQ%3D%3D?line=2'>3</a>\u001b[0m \u001b[39mfrom\u001b[39;00m \u001b[39mlangchain\u001b[39;00m\u001b[39m.\u001b[39;00m\u001b[39mcallbacks\u001b[39;00m \u001b[39mimport\u001b[39;00m StreamlitCallbackHandler\n\u001b[1;32m      <a href='vscode-notebook-cell:/home/rafaelcoelho/Desktop/Workbench/DS%20%26%20AI/Formula%201%20Analytics/FormulaOneAnalytics/preprocessing/llm1.ipynb#W0sZmlsZQ%3D%3D?line=3'>4</a>\u001b[0m \u001b[39mfrom\u001b[39;00m \u001b[39mlangchain\u001b[39;00m\u001b[39m.\u001b[39;00m\u001b[39mchat_models\u001b[39;00m \u001b[39mimport\u001b[39;00m ChatOpenAI\n",
      "File \u001b[0;32m~/.local/lib/python3.10/site-packages/langchain/agents/__init__.py:87\u001b[0m, in \u001b[0;36m__getattr__\u001b[0;34m(name)\u001b[0m\n\u001b[1;32m     85\u001b[0m     old_path \u001b[39m=\u001b[39m \u001b[39m\"\u001b[39m\u001b[39mlangchain.\u001b[39m\u001b[39m\"\u001b[39m \u001b[39m+\u001b[39m relative_path\n\u001b[1;32m     86\u001b[0m     new_path \u001b[39m=\u001b[39m \u001b[39m\"\u001b[39m\u001b[39mlangchain_experimental.\u001b[39m\u001b[39m\"\u001b[39m \u001b[39m+\u001b[39m relative_path\n\u001b[0;32m---> 87\u001b[0m     \u001b[39mraise\u001b[39;00m \u001b[39mImportError\u001b[39;00m(\n\u001b[1;32m     88\u001b[0m         \u001b[39mf\u001b[39m\u001b[39m\"\u001b[39m\u001b[39m{\u001b[39;00mname\u001b[39m}\u001b[39;00m\u001b[39m has been moved to langchain experimental. \u001b[39m\u001b[39m\"\u001b[39m\n\u001b[1;32m     89\u001b[0m         \u001b[39m\"\u001b[39m\u001b[39mSee https://github.com/langchain-ai/langchain/discussions/11680\u001b[39m\u001b[39m\"\u001b[39m\n\u001b[1;32m     90\u001b[0m         \u001b[39m\"\u001b[39m\u001b[39mfor more information.\u001b[39m\u001b[39m\\n\u001b[39;00m\u001b[39m\"\u001b[39m\n\u001b[1;32m     91\u001b[0m         \u001b[39mf\u001b[39m\u001b[39m\"\u001b[39m\u001b[39mPlease update your import statement from: `\u001b[39m\u001b[39m{\u001b[39;00mold_path\u001b[39m}\u001b[39;00m\u001b[39m` to `\u001b[39m\u001b[39m{\u001b[39;00mnew_path\u001b[39m}\u001b[39;00m\u001b[39m`.\u001b[39m\u001b[39m\"\u001b[39m\n\u001b[1;32m     92\u001b[0m     )\n\u001b[1;32m     93\u001b[0m \u001b[39mraise\u001b[39;00m \u001b[39mAttributeError\u001b[39;00m(\u001b[39mf\u001b[39m\u001b[39m\"\u001b[39m\u001b[39m{\u001b[39;00mname\u001b[39m}\u001b[39;00m\u001b[39m does not exist\u001b[39m\u001b[39m\"\u001b[39m)\n",
      "\u001b[0;31mImportError\u001b[0m: create_pandas_dataframe_agent has been moved to langchain experimental. See https://github.com/langchain-ai/langchain/discussions/11680for more information.\nPlease update your import statement from: `langchain.agents.create_pandas_dataframe_agent` to `langchain_experimental.agents.create_pandas_dataframe_agent`."
     ]
    }
   ],
   "source": [
    "import pandas as pd\n",
    "from langchain.agents import AgentType, create_pandas_dataframe_agent\n",
    "from langchain.callbacks import StreamlitCallbackHandler\n",
    "from langchain.chat_models import ChatOpenAI\n"
   ]
  }
 ],
 "metadata": {
  "kernelspec": {
   "display_name": "Python 3",
   "language": "python",
   "name": "python3"
  },
  "language_info": {
   "codemirror_mode": {
    "name": "ipython",
    "version": 3
   },
   "file_extension": ".py",
   "mimetype": "text/x-python",
   "name": "python",
   "nbconvert_exporter": "python",
   "pygments_lexer": "ipython3",
   "version": "3.10.12"
  }
 },
 "nbformat": 4,
 "nbformat_minor": 2
}
