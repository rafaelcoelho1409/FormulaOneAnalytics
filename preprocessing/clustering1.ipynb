{
 "cells": [
  {
   "cell_type": "code",
   "execution_count": 50,
   "metadata": {},
   "outputs": [],
   "source": [
    "import pandas as pd\n",
    "import numpy as np\n",
    "import datetime as dt\n",
    "pd.options.display.max_columns = 100\n",
    "pd.options.display.max_rows = 100"
   ]
  },
  {
   "cell_type": "code",
   "execution_count": 51,
   "metadata": {},
   "outputs": [],
   "source": [
    "results = pd.read_pickle(\"../data/results.pkl\")"
   ]
  },
  {
   "cell_type": "code",
   "execution_count": 52,
   "metadata": {},
   "outputs": [],
   "source": [
    "def convert_to_milliseconds(time_str):\n",
    "    try:\n",
    "        minutes, seconds_and_milliseconds = time_str.split(':')\n",
    "        seconds, milliseconds = seconds_and_milliseconds.split('.')\n",
    "        minutes = int(minutes)\n",
    "        seconds = int(seconds)\n",
    "        milliseconds = int(milliseconds)\n",
    "        total_milliseconds = (minutes * 60 + seconds) * 1000 + milliseconds\n",
    "        return total_milliseconds\n",
    "    except:\n",
    "        return None"
   ]
  },
  {
   "cell_type": "code",
   "execution_count": 53,
   "metadata": {},
   "outputs": [],
   "source": [
    "results = results[results[\"year\"] > 2003]"
   ]
  },
  {
   "cell_type": "code",
   "execution_count": 57,
   "metadata": {},
   "outputs": [],
   "source": [
    "results.to_pickle(\"../data/results_after_2003.pkl\")"
   ]
  },
  {
   "cell_type": "code",
   "execution_count": 54,
   "metadata": {},
   "outputs": [],
   "source": [
    "results[\"fastestLapTime_milliseconds\"] = results[\"fastestLapTime\"].apply(convert_to_milliseconds)"
   ]
  },
  {
   "cell_type": "code",
   "execution_count": 55,
   "metadata": {},
   "outputs": [
    {
     "data": {
      "text/plain": [
       "NaN         356\n",
       "78262.0       4\n",
       "103026.0      4\n",
       "78904.0       4\n",
       "77495.0       4\n",
       "           ... \n",
       "91167.0       1\n",
       "90573.0       1\n",
       "90108.0       1\n",
       "90279.0       1\n",
       "113138.0      1\n",
       "Name: fastestLapTime_milliseconds, Length: 6970, dtype: int64"
      ]
     },
     "execution_count": 55,
     "metadata": {},
     "output_type": "execute_result"
    }
   ],
   "source": [
    "results[\"fastestLapTime_milliseconds\"].value_counts(dropna = False)"
   ]
  },
  {
   "cell_type": "code",
   "execution_count": 58,
   "metadata": {},
   "outputs": [],
   "source": [
    "data_prep = results[[\n",
    "    \"raceId\",\n",
    "    \"driverId\",\n",
    "    \"constructorId\",\n",
    "    \"number_driver\",\n",
    "    \"grid\",\n",
    "    \"position\",\n",
    "    \"laps\",\n",
    "    \"milliseconds\",\n",
    "    \"fastestLap\",\n",
    "    \"rank\",\n",
    "    \"fastestLapTime_milliseconds\", #CONVERT IT TO FLOAT\n",
    "    \"fastestLapSpeed\",\n",
    "    \"statusId\",\n",
    "    \"year\",\n",
    "    \"round\",\n",
    "    \"circuitId\"\n",
    "]]"
   ]
  },
  {
   "cell_type": "code",
   "execution_count": 59,
   "metadata": {},
   "outputs": [
    {
     "data": {
      "text/html": [
       "<div>\n",
       "<style scoped>\n",
       "    .dataframe tbody tr th:only-of-type {\n",
       "        vertical-align: middle;\n",
       "    }\n",
       "\n",
       "    .dataframe tbody tr th {\n",
       "        vertical-align: top;\n",
       "    }\n",
       "\n",
       "    .dataframe thead th {\n",
       "        text-align: right;\n",
       "    }\n",
       "</style>\n",
       "<table border=\"1\" class=\"dataframe\">\n",
       "  <thead>\n",
       "    <tr style=\"text-align: right;\">\n",
       "      <th></th>\n",
       "      <th>raceId</th>\n",
       "      <th>driverId</th>\n",
       "      <th>constructorId</th>\n",
       "      <th>number_driver</th>\n",
       "      <th>grid</th>\n",
       "      <th>position</th>\n",
       "      <th>laps</th>\n",
       "      <th>milliseconds</th>\n",
       "      <th>fastestLap</th>\n",
       "      <th>rank</th>\n",
       "      <th>fastestLapTime_milliseconds</th>\n",
       "      <th>fastestLapSpeed</th>\n",
       "      <th>statusId</th>\n",
       "      <th>year</th>\n",
       "      <th>round</th>\n",
       "      <th>circuitId</th>\n",
       "    </tr>\n",
       "  </thead>\n",
       "  <tbody>\n",
       "    <tr>\n",
       "      <th>0</th>\n",
       "      <td>18</td>\n",
       "      <td>1</td>\n",
       "      <td>1</td>\n",
       "      <td>22.0</td>\n",
       "      <td>1.0</td>\n",
       "      <td>1.0</td>\n",
       "      <td>58.0</td>\n",
       "      <td>5690616</td>\n",
       "      <td>39.0</td>\n",
       "      <td>2.0</td>\n",
       "      <td>87452.0</td>\n",
       "      <td>218.300</td>\n",
       "      <td>1.0</td>\n",
       "      <td>2008.0</td>\n",
       "      <td>1.0</td>\n",
       "      <td>1.0</td>\n",
       "    </tr>\n",
       "    <tr>\n",
       "      <th>1</th>\n",
       "      <td>18</td>\n",
       "      <td>2</td>\n",
       "      <td>2</td>\n",
       "      <td>3.0</td>\n",
       "      <td>5.0</td>\n",
       "      <td>2.0</td>\n",
       "      <td>58.0</td>\n",
       "      <td>5696094</td>\n",
       "      <td>41.0</td>\n",
       "      <td>3.0</td>\n",
       "      <td>87739.0</td>\n",
       "      <td>217.586</td>\n",
       "      <td>1.0</td>\n",
       "      <td>2008.0</td>\n",
       "      <td>1.0</td>\n",
       "      <td>1.0</td>\n",
       "    </tr>\n",
       "    <tr>\n",
       "      <th>2</th>\n",
       "      <td>18</td>\n",
       "      <td>3</td>\n",
       "      <td>3</td>\n",
       "      <td>7.0</td>\n",
       "      <td>7.0</td>\n",
       "      <td>3.0</td>\n",
       "      <td>58.0</td>\n",
       "      <td>5698779</td>\n",
       "      <td>41.0</td>\n",
       "      <td>5.0</td>\n",
       "      <td>88090.0</td>\n",
       "      <td>216.719</td>\n",
       "      <td>1.0</td>\n",
       "      <td>2008.0</td>\n",
       "      <td>1.0</td>\n",
       "      <td>1.0</td>\n",
       "    </tr>\n",
       "    <tr>\n",
       "      <th>3</th>\n",
       "      <td>18</td>\n",
       "      <td>4</td>\n",
       "      <td>4</td>\n",
       "      <td>5.0</td>\n",
       "      <td>11.0</td>\n",
       "      <td>4.0</td>\n",
       "      <td>58.0</td>\n",
       "      <td>5707797</td>\n",
       "      <td>58.0</td>\n",
       "      <td>7.0</td>\n",
       "      <td>88603.0</td>\n",
       "      <td>215.464</td>\n",
       "      <td>1.0</td>\n",
       "      <td>2008.0</td>\n",
       "      <td>1.0</td>\n",
       "      <td>1.0</td>\n",
       "    </tr>\n",
       "    <tr>\n",
       "      <th>4</th>\n",
       "      <td>18</td>\n",
       "      <td>5</td>\n",
       "      <td>1</td>\n",
       "      <td>23.0</td>\n",
       "      <td>3.0</td>\n",
       "      <td>5.0</td>\n",
       "      <td>58.0</td>\n",
       "      <td>5708630</td>\n",
       "      <td>43.0</td>\n",
       "      <td>1.0</td>\n",
       "      <td>87418.0</td>\n",
       "      <td>218.385</td>\n",
       "      <td>1.0</td>\n",
       "      <td>2008.0</td>\n",
       "      <td>1.0</td>\n",
       "      <td>1.0</td>\n",
       "    </tr>\n",
       "  </tbody>\n",
       "</table>\n",
       "</div>"
      ],
      "text/plain": [
       "   raceId  driverId  constructorId  number_driver  grid  position  laps  \\\n",
       "0      18         1              1           22.0   1.0       1.0  58.0   \n",
       "1      18         2              2            3.0   5.0       2.0  58.0   \n",
       "2      18         3              3            7.0   7.0       3.0  58.0   \n",
       "3      18         4              4            5.0  11.0       4.0  58.0   \n",
       "4      18         5              1           23.0   3.0       5.0  58.0   \n",
       "\n",
       "  milliseconds  fastestLap  rank  fastestLapTime_milliseconds fastestLapSpeed  \\\n",
       "0      5690616        39.0   2.0                      87452.0         218.300   \n",
       "1      5696094        41.0   3.0                      87739.0         217.586   \n",
       "2      5698779        41.0   5.0                      88090.0         216.719   \n",
       "3      5707797        58.0   7.0                      88603.0         215.464   \n",
       "4      5708630        43.0   1.0                      87418.0         218.385   \n",
       "\n",
       "   statusId    year  round  circuitId  \n",
       "0       1.0  2008.0    1.0        1.0  \n",
       "1       1.0  2008.0    1.0        1.0  \n",
       "2       1.0  2008.0    1.0        1.0  \n",
       "3       1.0  2008.0    1.0        1.0  \n",
       "4       1.0  2008.0    1.0        1.0  "
      ]
     },
     "execution_count": 59,
     "metadata": {},
     "output_type": "execute_result"
    }
   ],
   "source": [
    "data_prep.head()"
   ]
  },
  {
   "cell_type": "code",
   "execution_count": 32,
   "metadata": {},
   "outputs": [],
   "source": [
    "column = iter(data_prep.columns)"
   ]
  },
  {
   "cell_type": "code",
   "execution_count": 31,
   "metadata": {},
   "outputs": [
    {
     "data": {
      "text/plain": [
       "6      2372\n",
       "1      1855\n",
       "3      1609\n",
       "25      881\n",
       "32      871\n",
       "       ... \n",
       "93        1\n",
       "153       1\n",
       "84        1\n",
       "155       1\n",
       "123       1\n",
       "Name: constructorId, Length: 210, dtype: int64"
      ]
     },
     "execution_count": 31,
     "metadata": {},
     "output_type": "execute_result"
    }
   ],
   "source": [
    "data_prep[\"constructorId\"].value_counts()"
   ]
  },
  {
   "cell_type": "code",
   "execution_count": 60,
   "metadata": {},
   "outputs": [],
   "source": [
    "data_prep.to_pickle(\"../data/data_prep1.pkl\")"
   ]
  }
 ],
 "metadata": {
  "kernelspec": {
   "display_name": "Python 3",
   "language": "python",
   "name": "python3"
  },
  "language_info": {
   "codemirror_mode": {
    "name": "ipython",
    "version": 3
   },
   "file_extension": ".py",
   "mimetype": "text/x-python",
   "name": "python",
   "nbconvert_exporter": "python",
   "pygments_lexer": "ipython3",
   "version": "3.10.12"
  }
 },
 "nbformat": 4,
 "nbformat_minor": 2
}
